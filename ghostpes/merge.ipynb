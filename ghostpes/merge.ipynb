{
 "cells": [
  {
   "cell_type": "code",
   "execution_count": 15,
   "metadata": {},
   "outputs": [],
   "source": [
    "import wandb\n",
    "api = wandb.Api()\n",
    "\n",
    "import wandb\n",
    "\n",
    "def plot_wandb(name_log, new_new):\n",
    "    \n",
    "    wandb.init(project=\"Mocosau_final\", name=new_new)\n",
    "    \n",
    "    # data_metric = []\n",
    "    log_dict = {}\n",
    "# run is specified by <entity>/<project>/<run id>\n",
    "    for name in name_log:\n",
    "        run = api.run(name)\n",
    "\n",
    "        # save the metrics for the run to a csv file\n",
    "        metrics_dataframe = run.history()\n",
    "        \n",
    "        metric_filter = metrics_dataframe[[\"trainer/global_step\", \"valid_acc_top1_ssl\", \"valid_acc_top5_ssl\"]]\n",
    "        metric_filter = metric_filter.dropna()\n",
    "\n",
    "        for k, v1, v2 in metric_filter.values:\n",
    "            log_dict.update({k:[v1, v2]})\n",
    "        \n",
    "\n",
    "    for k, [v1, v2] in log_dict.items():\n",
    "        wandb.log({\"global_step\":k, \"top1_acc\":v1, \"top5_acc\":v2})\n",
    "        \n",
    "        \n",
    "    wandb.finish()"
   ]
  },
  {
   "cell_type": "code",
   "execution_count": 18,
   "metadata": {},
   "outputs": [
    {
     "data": {
      "text/html": [
       "Tracking run with wandb version 0.13.5"
      ],
      "text/plain": [
       "<IPython.core.display.HTML object>"
      ]
     },
     "metadata": {},
     "output_type": "display_data"
    },
    {
     "data": {
      "text/html": [
       "Run data is saved locally in <code>/mnt/d/GhostPes/ghostpes/wandb/run-20221115_120205-tf4vyghc</code>"
      ],
      "text/plain": [
       "<IPython.core.display.HTML object>"
      ]
     },
     "metadata": {},
     "output_type": "display_data"
    },
    {
     "data": {
      "text/html": [
       "Syncing run <strong><a href=\"https://wandb.ai/duongcuong1977/Mocosau_final/runs/tf4vyghc\" target=\"_blank\">moco_momen_0.999_temp_0.01</a></strong> to <a href=\"https://wandb.ai/duongcuong1977/Mocosau_final\" target=\"_blank\">Weights & Biases</a> (<a href=\"https://wandb.me/run\" target=\"_blank\">docs</a>)<br/>"
      ],
      "text/plain": [
       "<IPython.core.display.HTML object>"
      ]
     },
     "metadata": {},
     "output_type": "display_data"
    },
    {
     "data": {
      "text/html": [
       "Waiting for W&B process to finish... <strong style=\"color:green\">(success).</strong>"
      ],
      "text/plain": [
       "<IPython.core.display.HTML object>"
      ]
     },
     "metadata": {},
     "output_type": "display_data"
    },
    {
     "data": {
      "text/html": [
       "<style>\n",
       "    table.wandb td:nth-child(1) { padding: 0 10px; text-align: left ; width: auto;} td:nth-child(2) {text-align: left ; width: 100%}\n",
       "    .wandb-row { display: flex; flex-direction: row; flex-wrap: wrap; justify-content: flex-start; width: 100% }\n",
       "    .wandb-col { display: flex; flex-direction: column; flex-basis: 100%; flex: 1; padding: 10px; }\n",
       "    </style>\n",
       "<div class=\"wandb-row\"><div class=\"wandb-col\"><h3>Run history:</h3><br/><table class=\"wandb\"><tr><td>global_step</td><td>▁▁▁▁▂▂▂▂▂▃▃▃▃▃▃▄▄▄▄▄▅▅▅▅▅▅▆▆▆▆▆▇▇▇▇▇▇███</td></tr><tr><td>top1_acc</td><td>▁▁▂▂▃▄▄▄▅▅▅▆▆▆▆▆▆▆▆▆▇▇▇▇▇▆▇▇▆▆▇▇▆▇▇██▇█▇</td></tr><tr><td>top5_acc</td><td>▁▂▃▃▄▅▅▅▆▆▆▆▇▇▇▇▇▇▇▇▇▇▇▇█▇██▇▇▇█▇███████</td></tr></table><br/></div><div class=\"wandb-col\"><h3>Run summary:</h3><br/><table class=\"wandb\"><tr><td>global_step</td><td>23066.0</td></tr><tr><td>top1_acc</td><td>48.76078</td></tr><tr><td>top5_acc</td><td>73.42852</td></tr></table><br/></div></div>"
      ],
      "text/plain": [
       "<IPython.core.display.HTML object>"
      ]
     },
     "metadata": {},
     "output_type": "display_data"
    },
    {
     "data": {
      "text/html": [
       "Synced <strong style=\"color:#cdcd00\">moco_momen_0.999_temp_0.01</strong>: <a href=\"https://wandb.ai/duongcuong1977/Mocosau_final/runs/tf4vyghc\" target=\"_blank\">https://wandb.ai/duongcuong1977/Mocosau_final/runs/tf4vyghc</a><br/>Synced 5 W&B file(s), 0 media file(s), 0 artifact file(s) and 0 other file(s)"
      ],
      "text/plain": [
       "<IPython.core.display.HTML object>"
      ]
     },
     "metadata": {},
     "output_type": "display_data"
    },
    {
     "data": {
      "text/html": [
       "Find logs at: <code>./wandb/run-20221115_120205-tf4vyghc/logs</code>"
      ],
      "text/plain": [
       "<IPython.core.display.HTML object>"
      ]
     },
     "metadata": {},
     "output_type": "display_data"
    }
   ],
   "source": [
    "plot_wandb(name_log=[\"duongcuong1977/MocoSau/37n7s4wj\", \"duongcuong1977/MocoSau/1fg1x1lt\"], new_new=\"moco_momen_0.999_temp_0.01\")"
   ]
  },
  {
   "cell_type": "code",
   "execution_count": 2,
   "metadata": {},
   "outputs": [
    {
     "data": {
      "text/html": [
       "<div>\n",
       "<style scoped>\n",
       "    .dataframe tbody tr th:only-of-type {\n",
       "        vertical-align: middle;\n",
       "    }\n",
       "\n",
       "    .dataframe tbody tr th {\n",
       "        vertical-align: top;\n",
       "    }\n",
       "\n",
       "    .dataframe thead th {\n",
       "        text-align: right;\n",
       "    }\n",
       "</style>\n",
       "<table border=\"1\" class=\"dataframe\">\n",
       "  <thead>\n",
       "    <tr style=\"text-align: right;\">\n",
       "      <th></th>\n",
       "      <th>trainer/global_step</th>\n",
       "      <th>_step</th>\n",
       "      <th>_runtime</th>\n",
       "      <th>lr-Adam</th>\n",
       "      <th>_timestamp</th>\n",
       "      <th>valid_loss_ssl</th>\n",
       "      <th>epoch</th>\n",
       "      <th>valid_acc_top1_ssl</th>\n",
       "      <th>valid_acc_top5_ssl</th>\n",
       "      <th>train_loss_ssl</th>\n",
       "    </tr>\n",
       "  </thead>\n",
       "  <tbody>\n",
       "    <tr>\n",
       "      <th>0</th>\n",
       "      <td>49</td>\n",
       "      <td>0</td>\n",
       "      <td>198</td>\n",
       "      <td>0.0005</td>\n",
       "      <td>1668170896</td>\n",
       "      <td>NaN</td>\n",
       "      <td>NaN</td>\n",
       "      <td>NaN</td>\n",
       "      <td>NaN</td>\n",
       "      <td>NaN</td>\n",
       "    </tr>\n",
       "    <tr>\n",
       "      <th>1</th>\n",
       "      <td>99</td>\n",
       "      <td>1</td>\n",
       "      <td>343</td>\n",
       "      <td>0.0005</td>\n",
       "      <td>1668171041</td>\n",
       "      <td>NaN</td>\n",
       "      <td>NaN</td>\n",
       "      <td>NaN</td>\n",
       "      <td>NaN</td>\n",
       "      <td>NaN</td>\n",
       "    </tr>\n",
       "    <tr>\n",
       "      <th>2</th>\n",
       "      <td>149</td>\n",
       "      <td>2</td>\n",
       "      <td>489</td>\n",
       "      <td>0.0005</td>\n",
       "      <td>1668171187</td>\n",
       "      <td>NaN</td>\n",
       "      <td>NaN</td>\n",
       "      <td>NaN</td>\n",
       "      <td>NaN</td>\n",
       "      <td>NaN</td>\n",
       "    </tr>\n",
       "    <tr>\n",
       "      <th>3</th>\n",
       "      <td>199</td>\n",
       "      <td>3</td>\n",
       "      <td>634</td>\n",
       "      <td>0.0005</td>\n",
       "      <td>1668171332</td>\n",
       "      <td>NaN</td>\n",
       "      <td>NaN</td>\n",
       "      <td>NaN</td>\n",
       "      <td>NaN</td>\n",
       "      <td>NaN</td>\n",
       "    </tr>\n",
       "    <tr>\n",
       "      <th>4</th>\n",
       "      <td>232</td>\n",
       "      <td>4</td>\n",
       "      <td>891</td>\n",
       "      <td>NaN</td>\n",
       "      <td>1668171589</td>\n",
       "      <td>5.664777</td>\n",
       "      <td>0.0</td>\n",
       "      <td>0.736351</td>\n",
       "      <td>6.097342</td>\n",
       "      <td>NaN</td>\n",
       "    </tr>\n",
       "    <tr>\n",
       "      <th>...</th>\n",
       "      <td>...</td>\n",
       "      <td>...</td>\n",
       "      <td>...</td>\n",
       "      <td>...</td>\n",
       "      <td>...</td>\n",
       "      <td>...</td>\n",
       "      <td>...</td>\n",
       "      <td>...</td>\n",
       "      <td>...</td>\n",
       "      <td>...</td>\n",
       "    </tr>\n",
       "    <tr>\n",
       "      <th>334</th>\n",
       "      <td>11749</td>\n",
       "      <td>334</td>\n",
       "      <td>42519</td>\n",
       "      <td>0.0005</td>\n",
       "      <td>1668213217</td>\n",
       "      <td>NaN</td>\n",
       "      <td>NaN</td>\n",
       "      <td>NaN</td>\n",
       "      <td>NaN</td>\n",
       "      <td>NaN</td>\n",
       "    </tr>\n",
       "    <tr>\n",
       "      <th>335</th>\n",
       "      <td>11799</td>\n",
       "      <td>335</td>\n",
       "      <td>42666</td>\n",
       "      <td>0.0005</td>\n",
       "      <td>1668213364</td>\n",
       "      <td>NaN</td>\n",
       "      <td>NaN</td>\n",
       "      <td>NaN</td>\n",
       "      <td>NaN</td>\n",
       "      <td>NaN</td>\n",
       "    </tr>\n",
       "    <tr>\n",
       "      <th>336</th>\n",
       "      <td>11849</td>\n",
       "      <td>336</td>\n",
       "      <td>42815</td>\n",
       "      <td>0.0005</td>\n",
       "      <td>1668213513</td>\n",
       "      <td>NaN</td>\n",
       "      <td>NaN</td>\n",
       "      <td>NaN</td>\n",
       "      <td>NaN</td>\n",
       "      <td>NaN</td>\n",
       "    </tr>\n",
       "    <tr>\n",
       "      <th>337</th>\n",
       "      <td>11882</td>\n",
       "      <td>337</td>\n",
       "      <td>43073</td>\n",
       "      <td>NaN</td>\n",
       "      <td>1668213771</td>\n",
       "      <td>6.425813</td>\n",
       "      <td>50.0</td>\n",
       "      <td>0.637572</td>\n",
       "      <td>4.247486</td>\n",
       "      <td>NaN</td>\n",
       "    </tr>\n",
       "    <tr>\n",
       "      <th>338</th>\n",
       "      <td>11882</td>\n",
       "      <td>338</td>\n",
       "      <td>43073</td>\n",
       "      <td>NaN</td>\n",
       "      <td>1668213771</td>\n",
       "      <td>NaN</td>\n",
       "      <td>50.0</td>\n",
       "      <td>NaN</td>\n",
       "      <td>NaN</td>\n",
       "      <td>4.962767</td>\n",
       "    </tr>\n",
       "  </tbody>\n",
       "</table>\n",
       "<p>339 rows × 10 columns</p>\n",
       "</div>"
      ],
      "text/plain": [
       "     trainer/global_step  _step  _runtime  lr-Adam  _timestamp  \\\n",
       "0                     49      0       198   0.0005  1668170896   \n",
       "1                     99      1       343   0.0005  1668171041   \n",
       "2                    149      2       489   0.0005  1668171187   \n",
       "3                    199      3       634   0.0005  1668171332   \n",
       "4                    232      4       891      NaN  1668171589   \n",
       "..                   ...    ...       ...      ...         ...   \n",
       "334                11749    334     42519   0.0005  1668213217   \n",
       "335                11799    335     42666   0.0005  1668213364   \n",
       "336                11849    336     42815   0.0005  1668213513   \n",
       "337                11882    337     43073      NaN  1668213771   \n",
       "338                11882    338     43073      NaN  1668213771   \n",
       "\n",
       "     valid_loss_ssl  epoch  valid_acc_top1_ssl  valid_acc_top5_ssl  \\\n",
       "0               NaN    NaN                 NaN                 NaN   \n",
       "1               NaN    NaN                 NaN                 NaN   \n",
       "2               NaN    NaN                 NaN                 NaN   \n",
       "3               NaN    NaN                 NaN                 NaN   \n",
       "4          5.664777    0.0            0.736351            6.097342   \n",
       "..              ...    ...                 ...                 ...   \n",
       "334             NaN    NaN                 NaN                 NaN   \n",
       "335             NaN    NaN                 NaN                 NaN   \n",
       "336             NaN    NaN                 NaN                 NaN   \n",
       "337        6.425813   50.0            0.637572            4.247486   \n",
       "338             NaN   50.0                 NaN                 NaN   \n",
       "\n",
       "     train_loss_ssl  \n",
       "0               NaN  \n",
       "1               NaN  \n",
       "2               NaN  \n",
       "3               NaN  \n",
       "4               NaN  \n",
       "..              ...  \n",
       "334             NaN  \n",
       "335             NaN  \n",
       "336             NaN  \n",
       "337             NaN  \n",
       "338        4.962767  \n",
       "\n",
       "[339 rows x 10 columns]"
      ]
     },
     "execution_count": 2,
     "metadata": {},
     "output_type": "execute_result"
    }
   ],
   "source": [
    "all_metric = [\"duongcuong1977/MocoSau/touciyp8\"]\n",
    "data_metric = []\n",
    "\n",
    "run = api.run(all_metric[0])\n",
    "\n",
    "    # save the metrics for the run to a csv file\n",
    "metrics_dataframe = run.history()\n",
    "\n",
    "\n",
    "\n",
    "for i in metric_filter.values:\n",
    "    print(i)\n",
    "metrics_dataframe\n",
    "    # metrics_dataframe.to_csv(\"metrics.csv\")"
   ]
  },
  {
   "cell_type": "code",
   "execution_count": 8,
   "metadata": {},
   "outputs": [
    {
     "name": "stdout",
     "output_type": "stream",
     "text": [
      "[232.           0.7363506    6.09734201]\n",
      "[465.           3.95114946  14.93354893]\n",
      "[698.           6.53735638  22.03663826]\n",
      "[931.          70.20474243  85.45258331]\n",
      "[1.16400000e+03 1.15840518e+00 4.61566114e+00]\n",
      "[1397.            5.71120691   19.98024368]\n",
      "[1630.            1.70617819   11.09913826]\n",
      "[1.86300000e+03 1.62535918e+00 1.09464798e+01]\n",
      "[2.09600000e+03 9.96767223e-01 6.58225584e+00]\n",
      "[2329.            6.12428141   23.0513649 ]\n",
      "[2562.            3.34949708   21.8660202 ]\n",
      "[2795.            5.0646553    20.98599052]\n",
      "[3028.            9.85991383   31.37571907]\n",
      "[3.26100000e+03 1.47270119e+00 8.32435322e+00]\n",
      "[3.49400000e+03 2.45150852e+00 1.55172415e+01]\n",
      "[3.72700000e+03 7.27370679e-01 4.17564678e+00]\n",
      "[3960.            6.90553141   25.3951149 ]\n",
      "[4193.            4.23850584   14.4486351 ]\n",
      "[4.42600000e+03 1.69719827e+00 8.96192551e+00]\n",
      "[4659.            4.76831913   19.56716919]\n",
      "[4.89200000e+03 3.23275852e+00 1.81842670e+01]\n",
      "[5.12500000e+03 4.54382181e+00 1.74838371e+01]\n",
      "[5.35800000e+03 5.11853456e-01 2.81968379e+00]\n",
      "[5591.           23.20402336   49.74856186]\n",
      "[5824.            8.09985638   20.59985542]\n",
      "[6.05700000e+03 5.02873540e-01 5.11853456e+00]\n",
      "[6290.           10.08441067   24.64978409]\n",
      "[6.52300000e+03 3.25969839e+00 1.33441095e+01]\n",
      "[6.75600000e+03 1.46372128e+00 9.74317551e+00]\n",
      "[6.98900000e+03 3.48419547e+00 1.43139372e+01]\n",
      "[7.22200000e+03 5.74712634e-01 3.67277288e+00]\n",
      "[7.45500000e+03 2.14619255e+00 1.13775148e+01]\n",
      "[7.68800000e+03 3.47521544e+00 2.06267967e+01]\n",
      "[7.92100000e+03 2.24497125e-01 1.17636490e+00]\n",
      "[8.15400000e+03 2.38864946e+00 1.25000000e+01]\n",
      "[8.38700000e+03 4.48994264e-02 4.31034476e-01]\n",
      "[8.6200000e+03 4.3013649e+00 1.7878952e+01]\n",
      "[8.85300000e+03 4.66056013e+00 1.86781616e+01]\n",
      "[9.08600000e+03 1.22126436e+00 6.85165215e+00]\n",
      "[9.31900000e+03 3.06214070e+00 1.17726297e+01]\n",
      "[9.55200000e+03 2.74784493e+00 1.29489946e+01]\n",
      "[9.78500000e+03 3.32255745e+00 1.57147989e+01]\n",
      "[1.00180000e+04 4.93893671e+00 1.76993542e+01]\n",
      "[1.02510000e+04 1.85883617e+00 1.05783043e+01]\n",
      "[1.04840000e+04 8.08189660e-02 7.36350596e-01]\n",
      "[10717.            19.51329041    44.04633713]\n",
      "[1.09500000e+04 8.67456913e+00 2.37428169e+01]\n",
      "[1.11830000e+04 5.36997128e+00 2.19109192e+01]\n",
      "[1.14160000e+04 9.42887902e-01 5.87284470e+00]\n",
      "[1.16490000e+04 1.38290226e+00 1.11889372e+01]\n",
      "[1.18820000e+04 6.37571812e-01 4.24748564e+00]\n"
     ]
    }
   ],
   "source": [
    "for i in metric_filter.values:\n",
    "    print(i)"
   ]
  },
  {
   "cell_type": "code",
   "execution_count": 11,
   "metadata": {},
   "outputs": [],
   "source": [
    "metric_filter = metrics_dataframe[[\"trainer/global_step\", \"valid_acc_top1_ssl\", \"valid_acc_top5_ssl\"]]\n",
    "metric_filter = metric_filter.dropna()\n",
    "data_metric = []\n",
    "data_metric.append(metric_filter)\n",
    "log_dict = {}\n",
    "for data_i in data_metric:\n",
    "    for k, v1, v2 in data_i.values:\n",
    "        log_dict.update({k:[v1, v2]})\n",
    "        "
   ]
  },
  {
   "cell_type": "code",
   "execution_count": 12,
   "metadata": {},
   "outputs": [
    {
     "data": {
      "text/plain": [
       "{232.0: [0.7363505959510803, 6.097342014312744],\n",
       " 465.0: [3.9511494636535645, 14.933548927307129],\n",
       " 698.0: [6.537356376647949, 22.036638259887695],\n",
       " 931.0: [70.20474243164062, 85.45258331298828],\n",
       " 1164.0: [1.1584051847457886, 4.615661144256592],\n",
       " 1397.0: [5.711206912994385, 19.980243682861328],\n",
       " 1630.0: [1.7061781883239746, 11.099138259887695],\n",
       " 1863.0: [1.6253591775894165, 10.946479797363281],\n",
       " 2096.0: [0.9967672228813171, 6.582255840301514],\n",
       " 2329.0: [6.124281406402588, 23.05136489868164],\n",
       " 2562.0: [3.349497079849243, 21.86602020263672],\n",
       " 2795.0: [5.064655303955078, 20.985990524291992],\n",
       " 3028.0: [9.85991382598877, 31.37571907043457],\n",
       " 3261.0: [1.4727011919021606, 8.324353218078613],\n",
       " 3494.0: [2.4515085220336914, 15.517241477966309],\n",
       " 3727.0: [0.7273706793785095, 4.175646781921387],\n",
       " 3960.0: [6.905531406402588, 25.39511489868164],\n",
       " 4193.0: [4.238505840301514, 14.44863510131836],\n",
       " 4426.0: [1.6971982717514038, 8.961925506591797],\n",
       " 4659.0: [4.768319129943848, 19.567169189453125],\n",
       " 4892.0: [3.2327585220336914, 18.184267044067383],\n",
       " 5125.0: [4.543821811676025, 17.483837127685547],\n",
       " 5358.0: [0.5118534564971924, 2.819683790206909],\n",
       " 5591.0: [23.204023361206055, 49.74856185913086],\n",
       " 5824.0: [8.09985637664795, 20.599855422973633],\n",
       " 6057.0: [0.5028735399246216, 5.118534564971924],\n",
       " 6290.0: [10.084410667419434, 24.649784088134766],\n",
       " 6523.0: [3.2596983909606934, 13.344109535217285],\n",
       " 6756.0: [1.4637212753295898, 9.743175506591797],\n",
       " 6989.0: [3.4841954708099365, 14.313937187194824],\n",
       " 7222.0: [0.5747126340866089, 3.6727728843688965],\n",
       " 7455.0: [2.1461925506591797, 11.377514839172363],\n",
       " 7688.0: [3.475215435028076, 20.62679672241211],\n",
       " 7921.0: [0.22449712455272675, 1.1763648986816406],\n",
       " 8154.0: [2.3886494636535645, 12.5],\n",
       " 8387.0: [0.04489942640066147, 0.43103447556495667],\n",
       " 8620.0: [4.301364898681641, 17.878952026367188],\n",
       " 8853.0: [4.660560131072998, 18.67816162109375],\n",
       " 9086.0: [1.221264362335205, 6.851652145385742],\n",
       " 9319.0: [3.062140703201294, 11.772629737854004],\n",
       " 9552.0: [2.747844934463501, 12.948994636535645],\n",
       " 9785.0: [3.3225574493408203, 15.714798927307129],\n",
       " 10018.0: [4.938936710357666, 17.69935417175293],\n",
       " 10251.0: [1.8588361740112305, 10.578304290771484],\n",
       " 10484.0: [0.08081896603107452, 0.7363505959510803],\n",
       " 10717.0: [19.513290405273438, 44.04633712768555],\n",
       " 10950.0: [8.674569129943848, 23.742816925048828],\n",
       " 11183.0: [5.36997127532959, 21.910919189453125],\n",
       " 11416.0: [0.9428879022598267, 5.872844696044922],\n",
       " 11649.0: [1.3829022645950317, 11.188937187194824],\n",
       " 11882.0: [0.6375718116760254, 4.247485637664795]}"
      ]
     },
     "execution_count": 12,
     "metadata": {},
     "output_type": "execute_result"
    }
   ],
   "source": []
  },
  {
   "cell_type": "code",
   "execution_count": null,
   "metadata": {},
   "outputs": [],
   "source": []
  },
  {
   "cell_type": "code",
   "execution_count": 1,
   "metadata": {},
   "outputs": [
    {
     "ename": "CommError",
     "evalue": "Could not find run <Run cuong31120/duongcuong1977/MocoSau (not found)>",
     "output_type": "error",
     "traceback": [
      "\u001b[0;31m---------------------------------------------------------------------------\u001b[0m",
      "\u001b[0;31mValueError\u001b[0m                                Traceback (most recent call last)",
      "\u001b[0;32m~/miniconda3/envs/myenv/lib/python3.7/site-packages/wandb/apis/normalize.py\u001b[0m in \u001b[0;36mwrapper\u001b[0;34m(*args, **kwargs)\u001b[0m\n\u001b[1;32m     25\u001b[0m         \u001b[0;32mtry\u001b[0m\u001b[0;34m:\u001b[0m\u001b[0;34m\u001b[0m\u001b[0;34m\u001b[0m\u001b[0m\n\u001b[0;32m---> 26\u001b[0;31m             \u001b[0;32mreturn\u001b[0m \u001b[0mfunc\u001b[0m\u001b[0;34m(\u001b[0m\u001b[0;34m*\u001b[0m\u001b[0margs\u001b[0m\u001b[0;34m,\u001b[0m \u001b[0;34m**\u001b[0m\u001b[0mkwargs\u001b[0m\u001b[0;34m)\u001b[0m\u001b[0;34m\u001b[0m\u001b[0;34m\u001b[0m\u001b[0m\n\u001b[0m\u001b[1;32m     27\u001b[0m         \u001b[0;32mexcept\u001b[0m \u001b[0mrequests\u001b[0m\u001b[0;34m.\u001b[0m\u001b[0mHTTPError\u001b[0m \u001b[0;32mas\u001b[0m \u001b[0merr\u001b[0m\u001b[0;34m:\u001b[0m\u001b[0;34m\u001b[0m\u001b[0;34m\u001b[0m\u001b[0m\n",
      "\u001b[0;32m~/miniconda3/envs/myenv/lib/python3.7/site-packages/wandb/apis/public.py\u001b[0m in \u001b[0;36mrun\u001b[0;34m(self, path)\u001b[0m\n\u001b[1;32m    866\u001b[0m         \u001b[0;32mif\u001b[0m \u001b[0;32mnot\u001b[0m \u001b[0mself\u001b[0m\u001b[0;34m.\u001b[0m\u001b[0m_runs\u001b[0m\u001b[0;34m.\u001b[0m\u001b[0mget\u001b[0m\u001b[0;34m(\u001b[0m\u001b[0mpath\u001b[0m\u001b[0;34m)\u001b[0m\u001b[0;34m:\u001b[0m\u001b[0;34m\u001b[0m\u001b[0;34m\u001b[0m\u001b[0m\n\u001b[0;32m--> 867\u001b[0;31m             \u001b[0mself\u001b[0m\u001b[0;34m.\u001b[0m\u001b[0m_runs\u001b[0m\u001b[0;34m[\u001b[0m\u001b[0mpath\u001b[0m\u001b[0;34m]\u001b[0m \u001b[0;34m=\u001b[0m \u001b[0mRun\u001b[0m\u001b[0;34m(\u001b[0m\u001b[0mself\u001b[0m\u001b[0;34m.\u001b[0m\u001b[0mclient\u001b[0m\u001b[0;34m,\u001b[0m \u001b[0mentity\u001b[0m\u001b[0;34m,\u001b[0m \u001b[0mproject\u001b[0m\u001b[0;34m,\u001b[0m \u001b[0mrun_id\u001b[0m\u001b[0;34m)\u001b[0m\u001b[0;34m\u001b[0m\u001b[0;34m\u001b[0m\u001b[0m\n\u001b[0m\u001b[1;32m    868\u001b[0m         \u001b[0;32mreturn\u001b[0m \u001b[0mself\u001b[0m\u001b[0;34m.\u001b[0m\u001b[0m_runs\u001b[0m\u001b[0;34m[\u001b[0m\u001b[0mpath\u001b[0m\u001b[0;34m]\u001b[0m\u001b[0;34m\u001b[0m\u001b[0;34m\u001b[0m\u001b[0m\n",
      "\u001b[0;32m~/miniconda3/envs/myenv/lib/python3.7/site-packages/wandb/apis/public.py\u001b[0m in \u001b[0;36m__init__\u001b[0;34m(self, client, entity, project, run_id, attrs, include_sweeps)\u001b[0m\n\u001b[1;32m   1698\u001b[0m \u001b[0;34m\u001b[0m\u001b[0m\n\u001b[0;32m-> 1699\u001b[0;31m         \u001b[0mself\u001b[0m\u001b[0;34m.\u001b[0m\u001b[0mload\u001b[0m\u001b[0;34m(\u001b[0m\u001b[0mforce\u001b[0m\u001b[0;34m=\u001b[0m\u001b[0;32mnot\u001b[0m \u001b[0m_attrs\u001b[0m\u001b[0;34m)\u001b[0m\u001b[0;34m\u001b[0m\u001b[0;34m\u001b[0m\u001b[0m\n\u001b[0m\u001b[1;32m   1700\u001b[0m \u001b[0;34m\u001b[0m\u001b[0m\n",
      "\u001b[0;32m~/miniconda3/envs/myenv/lib/python3.7/site-packages/wandb/apis/public.py\u001b[0m in \u001b[0;36mload\u001b[0;34m(self, force)\u001b[0m\n\u001b[1;32m   1802\u001b[0m             ):\n\u001b[0;32m-> 1803\u001b[0;31m                 \u001b[0;32mraise\u001b[0m \u001b[0mValueError\u001b[0m\u001b[0;34m(\u001b[0m\u001b[0;34m\"Could not find run %s\"\u001b[0m \u001b[0;34m%\u001b[0m \u001b[0mself\u001b[0m\u001b[0;34m)\u001b[0m\u001b[0;34m\u001b[0m\u001b[0;34m\u001b[0m\u001b[0m\n\u001b[0m\u001b[1;32m   1804\u001b[0m             \u001b[0mself\u001b[0m\u001b[0;34m.\u001b[0m\u001b[0m_attrs\u001b[0m \u001b[0;34m=\u001b[0m \u001b[0mresponse\u001b[0m\u001b[0;34m[\u001b[0m\u001b[0;34m\"project\"\u001b[0m\u001b[0;34m]\u001b[0m\u001b[0;34m[\u001b[0m\u001b[0;34m\"run\"\u001b[0m\u001b[0;34m]\u001b[0m\u001b[0;34m\u001b[0m\u001b[0;34m\u001b[0m\u001b[0m\n",
      "\u001b[0;31mValueError\u001b[0m: Could not find run <Run cuong31120/duongcuong1977/MocoSau (not found)>",
      "\nDuring handling of the above exception, another exception occurred:\n",
      "\u001b[0;31mCommError\u001b[0m                                 Traceback (most recent call last)",
      "\u001b[0;32m/tmp/ipykernel_579/3219643321.py\u001b[0m in \u001b[0;36m<module>\u001b[0;34m\u001b[0m\n\u001b[1;32m      3\u001b[0m \u001b[0mapi\u001b[0m \u001b[0;34m=\u001b[0m \u001b[0mwandb\u001b[0m\u001b[0;34m.\u001b[0m\u001b[0mApi\u001b[0m\u001b[0;34m(\u001b[0m\u001b[0;34m)\u001b[0m\u001b[0;34m\u001b[0m\u001b[0;34m\u001b[0m\u001b[0m\n\u001b[1;32m      4\u001b[0m \u001b[0;34m\u001b[0m\u001b[0m\n\u001b[0;32m----> 5\u001b[0;31m \u001b[0mrun1\u001b[0m \u001b[0;34m=\u001b[0m \u001b[0mapi\u001b[0m\u001b[0;34m.\u001b[0m\u001b[0mrun\u001b[0m\u001b[0;34m(\u001b[0m\u001b[0;34m\"duongcuong1977/MocoSau\"\u001b[0m\u001b[0;34m)\u001b[0m\u001b[0;34m\u001b[0m\u001b[0;34m\u001b[0m\u001b[0m\n\u001b[0m\u001b[1;32m      6\u001b[0m \u001b[0;31m# run2 = api.run(\"<entity>/<project>/<run_id>\")\u001b[0m\u001b[0;34m\u001b[0m\u001b[0;34m\u001b[0m\u001b[0;34m\u001b[0m\u001b[0m\n\u001b[1;32m      7\u001b[0m \u001b[0mrun1\u001b[0m\u001b[0;34m.\u001b[0m\u001b[0mconfig\u001b[0m\u001b[0;34m\u001b[0m\u001b[0;34m\u001b[0m\u001b[0m\n",
      "\u001b[0;32m~/miniconda3/envs/myenv/lib/python3.7/site-packages/wandb/apis/normalize.py\u001b[0m in \u001b[0;36mwrapper\u001b[0;34m(*args, **kwargs)\u001b[0m\n\u001b[1;32m     60\u001b[0m                 \u001b[0;32mraise\u001b[0m\u001b[0;34m\u001b[0m\u001b[0;34m\u001b[0m\u001b[0m\n\u001b[1;32m     61\u001b[0m             \u001b[0;32melse\u001b[0m\u001b[0;34m:\u001b[0m\u001b[0;34m\u001b[0m\u001b[0;34m\u001b[0m\u001b[0m\n\u001b[0;32m---> 62\u001b[0;31m                 \u001b[0;32mraise\u001b[0m \u001b[0mCommError\u001b[0m\u001b[0;34m(\u001b[0m\u001b[0mmessage\u001b[0m\u001b[0;34m,\u001b[0m \u001b[0merr\u001b[0m\u001b[0;34m)\u001b[0m\u001b[0;34m.\u001b[0m\u001b[0mwith_traceback\u001b[0m\u001b[0;34m(\u001b[0m\u001b[0msys\u001b[0m\u001b[0;34m.\u001b[0m\u001b[0mexc_info\u001b[0m\u001b[0;34m(\u001b[0m\u001b[0;34m)\u001b[0m\u001b[0;34m[\u001b[0m\u001b[0;36m2\u001b[0m\u001b[0;34m]\u001b[0m\u001b[0;34m)\u001b[0m\u001b[0;34m\u001b[0m\u001b[0;34m\u001b[0m\u001b[0m\n\u001b[0m\u001b[1;32m     63\u001b[0m \u001b[0;34m\u001b[0m\u001b[0m\n\u001b[1;32m     64\u001b[0m     \u001b[0;32mreturn\u001b[0m \u001b[0mwrapper\u001b[0m\u001b[0;34m\u001b[0m\u001b[0;34m\u001b[0m\u001b[0m\n",
      "\u001b[0;32m~/miniconda3/envs/myenv/lib/python3.7/site-packages/wandb/apis/normalize.py\u001b[0m in \u001b[0;36mwrapper\u001b[0;34m(*args, **kwargs)\u001b[0m\n\u001b[1;32m     24\u001b[0m         \u001b[0mmessage\u001b[0m \u001b[0;34m=\u001b[0m \u001b[0;34m\"Whoa, you found a bug.\"\u001b[0m\u001b[0;34m\u001b[0m\u001b[0;34m\u001b[0m\u001b[0m\n\u001b[1;32m     25\u001b[0m         \u001b[0;32mtry\u001b[0m\u001b[0;34m:\u001b[0m\u001b[0;34m\u001b[0m\u001b[0;34m\u001b[0m\u001b[0m\n\u001b[0;32m---> 26\u001b[0;31m             \u001b[0;32mreturn\u001b[0m \u001b[0mfunc\u001b[0m\u001b[0;34m(\u001b[0m\u001b[0;34m*\u001b[0m\u001b[0margs\u001b[0m\u001b[0;34m,\u001b[0m \u001b[0;34m**\u001b[0m\u001b[0mkwargs\u001b[0m\u001b[0;34m)\u001b[0m\u001b[0;34m\u001b[0m\u001b[0;34m\u001b[0m\u001b[0m\n\u001b[0m\u001b[1;32m     27\u001b[0m         \u001b[0;32mexcept\u001b[0m \u001b[0mrequests\u001b[0m\u001b[0;34m.\u001b[0m\u001b[0mHTTPError\u001b[0m \u001b[0;32mas\u001b[0m \u001b[0merr\u001b[0m\u001b[0;34m:\u001b[0m\u001b[0;34m\u001b[0m\u001b[0;34m\u001b[0m\u001b[0m\n\u001b[1;32m     28\u001b[0m             \u001b[0;32mraise\u001b[0m \u001b[0mCommError\u001b[0m\u001b[0;34m(\u001b[0m\u001b[0merr\u001b[0m\u001b[0;34m.\u001b[0m\u001b[0mresponse\u001b[0m\u001b[0;34m,\u001b[0m \u001b[0merr\u001b[0m\u001b[0;34m)\u001b[0m\u001b[0;34m\u001b[0m\u001b[0;34m\u001b[0m\u001b[0m\n",
      "\u001b[0;32m~/miniconda3/envs/myenv/lib/python3.7/site-packages/wandb/apis/public.py\u001b[0m in \u001b[0;36mrun\u001b[0;34m(self, path)\u001b[0m\n\u001b[1;32m    865\u001b[0m         \u001b[0mentity\u001b[0m\u001b[0;34m,\u001b[0m \u001b[0mproject\u001b[0m\u001b[0;34m,\u001b[0m \u001b[0mrun_id\u001b[0m \u001b[0;34m=\u001b[0m \u001b[0mself\u001b[0m\u001b[0;34m.\u001b[0m\u001b[0m_parse_path\u001b[0m\u001b[0;34m(\u001b[0m\u001b[0mpath\u001b[0m\u001b[0;34m)\u001b[0m\u001b[0;34m\u001b[0m\u001b[0;34m\u001b[0m\u001b[0m\n\u001b[1;32m    866\u001b[0m         \u001b[0;32mif\u001b[0m \u001b[0;32mnot\u001b[0m \u001b[0mself\u001b[0m\u001b[0;34m.\u001b[0m\u001b[0m_runs\u001b[0m\u001b[0;34m.\u001b[0m\u001b[0mget\u001b[0m\u001b[0;34m(\u001b[0m\u001b[0mpath\u001b[0m\u001b[0;34m)\u001b[0m\u001b[0;34m:\u001b[0m\u001b[0;34m\u001b[0m\u001b[0;34m\u001b[0m\u001b[0m\n\u001b[0;32m--> 867\u001b[0;31m             \u001b[0mself\u001b[0m\u001b[0;34m.\u001b[0m\u001b[0m_runs\u001b[0m\u001b[0;34m[\u001b[0m\u001b[0mpath\u001b[0m\u001b[0;34m]\u001b[0m \u001b[0;34m=\u001b[0m \u001b[0mRun\u001b[0m\u001b[0;34m(\u001b[0m\u001b[0mself\u001b[0m\u001b[0;34m.\u001b[0m\u001b[0mclient\u001b[0m\u001b[0;34m,\u001b[0m \u001b[0mentity\u001b[0m\u001b[0;34m,\u001b[0m \u001b[0mproject\u001b[0m\u001b[0;34m,\u001b[0m \u001b[0mrun_id\u001b[0m\u001b[0;34m)\u001b[0m\u001b[0;34m\u001b[0m\u001b[0;34m\u001b[0m\u001b[0m\n\u001b[0m\u001b[1;32m    868\u001b[0m         \u001b[0;32mreturn\u001b[0m \u001b[0mself\u001b[0m\u001b[0;34m.\u001b[0m\u001b[0m_runs\u001b[0m\u001b[0;34m[\u001b[0m\u001b[0mpath\u001b[0m\u001b[0;34m]\u001b[0m\u001b[0;34m\u001b[0m\u001b[0;34m\u001b[0m\u001b[0m\n\u001b[1;32m    869\u001b[0m \u001b[0;34m\u001b[0m\u001b[0m\n",
      "\u001b[0;32m~/miniconda3/envs/myenv/lib/python3.7/site-packages/wandb/apis/public.py\u001b[0m in \u001b[0;36m__init__\u001b[0;34m(self, client, entity, project, run_id, attrs, include_sweeps)\u001b[0m\n\u001b[1;32m   1697\u001b[0m         \u001b[0mself\u001b[0m\u001b[0;34m.\u001b[0m\u001b[0m_state\u001b[0m \u001b[0;34m=\u001b[0m \u001b[0m_attrs\u001b[0m\u001b[0;34m.\u001b[0m\u001b[0mget\u001b[0m\u001b[0;34m(\u001b[0m\u001b[0;34m\"state\"\u001b[0m\u001b[0;34m,\u001b[0m \u001b[0;34m\"not found\"\u001b[0m\u001b[0;34m)\u001b[0m\u001b[0;34m\u001b[0m\u001b[0;34m\u001b[0m\u001b[0m\n\u001b[1;32m   1698\u001b[0m \u001b[0;34m\u001b[0m\u001b[0m\n\u001b[0;32m-> 1699\u001b[0;31m         \u001b[0mself\u001b[0m\u001b[0;34m.\u001b[0m\u001b[0mload\u001b[0m\u001b[0;34m(\u001b[0m\u001b[0mforce\u001b[0m\u001b[0;34m=\u001b[0m\u001b[0;32mnot\u001b[0m \u001b[0m_attrs\u001b[0m\u001b[0;34m)\u001b[0m\u001b[0;34m\u001b[0m\u001b[0;34m\u001b[0m\u001b[0m\n\u001b[0m\u001b[1;32m   1700\u001b[0m \u001b[0;34m\u001b[0m\u001b[0m\n\u001b[1;32m   1701\u001b[0m     \u001b[0;34m@\u001b[0m\u001b[0mproperty\u001b[0m\u001b[0;34m\u001b[0m\u001b[0;34m\u001b[0m\u001b[0m\n",
      "\u001b[0;32m~/miniconda3/envs/myenv/lib/python3.7/site-packages/wandb/apis/public.py\u001b[0m in \u001b[0;36mload\u001b[0;34m(self, force)\u001b[0m\n\u001b[1;32m   1801\u001b[0m                 \u001b[0;32mor\u001b[0m \u001b[0mresponse\u001b[0m\u001b[0;34m[\u001b[0m\u001b[0;34m\"project\"\u001b[0m\u001b[0;34m]\u001b[0m\u001b[0;34m.\u001b[0m\u001b[0mget\u001b[0m\u001b[0;34m(\u001b[0m\u001b[0;34m\"run\"\u001b[0m\u001b[0;34m)\u001b[0m \u001b[0;32mis\u001b[0m \u001b[0;32mNone\u001b[0m\u001b[0;34m\u001b[0m\u001b[0;34m\u001b[0m\u001b[0m\n\u001b[1;32m   1802\u001b[0m             ):\n\u001b[0;32m-> 1803\u001b[0;31m                 \u001b[0;32mraise\u001b[0m \u001b[0mValueError\u001b[0m\u001b[0;34m(\u001b[0m\u001b[0;34m\"Could not find run %s\"\u001b[0m \u001b[0;34m%\u001b[0m \u001b[0mself\u001b[0m\u001b[0;34m)\u001b[0m\u001b[0;34m\u001b[0m\u001b[0;34m\u001b[0m\u001b[0m\n\u001b[0m\u001b[1;32m   1804\u001b[0m             \u001b[0mself\u001b[0m\u001b[0;34m.\u001b[0m\u001b[0m_attrs\u001b[0m \u001b[0;34m=\u001b[0m \u001b[0mresponse\u001b[0m\u001b[0;34m[\u001b[0m\u001b[0;34m\"project\"\u001b[0m\u001b[0;34m]\u001b[0m\u001b[0;34m[\u001b[0m\u001b[0;34m\"run\"\u001b[0m\u001b[0;34m]\u001b[0m\u001b[0;34m\u001b[0m\u001b[0;34m\u001b[0m\u001b[0m\n\u001b[1;32m   1805\u001b[0m             \u001b[0mself\u001b[0m\u001b[0;34m.\u001b[0m\u001b[0m_state\u001b[0m \u001b[0;34m=\u001b[0m \u001b[0mself\u001b[0m\u001b[0;34m.\u001b[0m\u001b[0m_attrs\u001b[0m\u001b[0;34m[\u001b[0m\u001b[0;34m\"state\"\u001b[0m\u001b[0;34m]\u001b[0m\u001b[0;34m\u001b[0m\u001b[0;34m\u001b[0m\u001b[0m\n",
      "\u001b[0;31mCommError\u001b[0m: Could not find run <Run cuong31120/duongcuong1977/MocoSau (not found)>"
     ]
    }
   ],
   "source": [
    "import pandas as pd\n",
    "import wandb\n",
    "api = wandb.Api()\n",
    "\n",
    "run1 = api.run(\"duongcuong1977/MocoSau\")\n",
    "# run2 = api.run(\"<entity>/<project>/<run_id>\")\n",
    "run1.config\n",
    "# df = pd.DataFrame([run1.config, run2.config]).transpose()\n",
    "\n",
    "# df.columns = [run1.name, run2.name]\n",
    "# print(df[df[run1.name] != df[run2.name]])"
   ]
  },
  {
   "cell_type": "code",
   "execution_count": null,
   "metadata": {},
   "outputs": [],
   "source": []
  }
 ],
 "metadata": {
  "kernelspec": {
   "display_name": "Python 3.7.15 ('myenv')",
   "language": "python",
   "name": "python3"
  },
  "language_info": {
   "codemirror_mode": {
    "name": "ipython",
    "version": 3
   },
   "file_extension": ".py",
   "mimetype": "text/x-python",
   "name": "python",
   "nbconvert_exporter": "python",
   "pygments_lexer": "ipython3",
   "version": "3.7.15"
  },
  "orig_nbformat": 4,
  "vscode": {
   "interpreter": {
    "hash": "7906d4bed1735f20b1b3bcc7e0b9dd7fbc3cd2953c0ccc943184f1fccd836848"
   }
  }
 },
 "nbformat": 4,
 "nbformat_minor": 2
}
